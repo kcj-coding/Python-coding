{
 "cells": [
  {
   "cell_type": "markdown",
   "id": "ce1221d3-ac1d-44f4-814d-37bf0ac84ae5",
   "metadata": {},
   "source": [
    "# Making an Excel file with Python"
   ]
  },
  {
   "cell_type": "code",
   "execution_count": 1,
   "id": "306ba573-9cb0-42f0-a572-c9f87b2a2962",
   "metadata": {},
   "outputs": [],
   "source": [
    "import pandas as pd\n",
    "import xlsxwriter\n",
    "import numpy as np\n",
    "import matplotlib.pyplot as plt\n",
    "import random\n",
    "import os"
   ]
  },
  {
   "cell_type": "markdown",
   "id": "8643e9a3-6606-4ff9-bc30-4c035f9a0ad5",
   "metadata": {},
   "source": [
    "# Configure variables"
   ]
  },
  {
   "cell_type": "code",
   "execution_count": 2,
   "id": "5bf06cf0-a05c-44bf-ab84-52ec0cdd540e",
   "metadata": {},
   "outputs": [],
   "source": [
    "################################ configuration ################################\n",
    "output_folder = r\"C:\\\\Users\\\\kelvi\\\\Desktop\"\n",
    "excel_file_name = \"name.xlsx\""
   ]
  },
  {
   "cell_type": "markdown",
   "id": "fe705605-460c-466a-962e-fc6b09c5b8b0",
   "metadata": {},
   "source": [
    "# Create a dataframe"
   ]
  },
  {
   "cell_type": "code",
   "execution_count": 3,
   "id": "3541a5b4-cb7b-4e19-9473-1a2240ce655b",
   "metadata": {},
   "outputs": [],
   "source": [
    "################################## make df ####################################\n",
    "data = [1,2,3,4,5,6,7,8,9,10]\n",
    "typer = [\"a\",\"b\",\"a\",\"b\",\"a\",\"b\",\"a\",\"b\",\"a\",\"b\"]\n",
    "\n",
    "# make a dataframe\n",
    "df = pd.DataFrame({'data':data, 'type':typer})"
   ]
  },
  {
   "cell_type": "markdown",
   "id": "a40ce071-0a99-4df2-8426-c5d174d0b250",
   "metadata": {},
   "source": [
    "# Create graph"
   ]
  },
  {
   "cell_type": "code",
   "execution_count": 4,
   "id": "cde51761-607b-4b65-b513-e87a6abae5c3",
   "metadata": {},
   "outputs": [
    {
     "data": {
      "image/png": "[encoded data removed]",
      "text/plain": [
       "<Figure size 1181.1x590.551 with 1 Axes>"
      ]
     },
     "metadata": {},
     "output_type": "display_data"
    }
   ],
   "source": [
    "################################### graph #####################################\n",
    "# make a graph of this data and save it, then remove at end\n",
    "fig, ax = plt.subplots()\n",
    "\n",
    "for i in df.type.unique():\n",
    "\n",
    "    ax.plot(df['type'][df['type']==i],df['data'][df['type']==i])\n",
    "    # annotate\n",
    "    for x,y in zip(df['type'][df['type']==i],df['data'][df['type']==i]):\n",
    "    \n",
    "        label = \"{}\".format(y) #\"{:.2f}\" 2 decimal places or round(y,0)\n",
    "        \n",
    "        plt.annotate(label, # this is the text\n",
    "                     (x,y), # these are the coordinates to position the label\n",
    "                     textcoords=\"offset points\", # how to position the text\n",
    "                     xytext=(0,10), # distance from text to points (x,y)\n",
    "                     ha='center',\n",
    "                     rotation='horizontal', fontsize=8) # horizontal alignment can be left, right or center\n",
    "\n",
    "ax.set_ylabel('Sales',size=8)\n",
    "ax.set_xlabel('Sales',size=8)\n",
    "ax.set_title('Sales',size=8)    \n",
    "ax.spines['top'].set_visible(False)\n",
    "ax.spines['right'].set_visible(False)\n",
    "\n",
    "#set size of graph\n",
    "cmsize=1/2.54\n",
    "fig.set_size_inches(30*cmsize, 15*cmsize)\n",
    "\n",
    "#save plot\n",
    "plt.savefig(rf\"{output_folder}\\figpath.png\", dpi=400, bbox_inches='tight')"
   ]
  },
  {
   "cell_type": "markdown",
   "id": "580e8242-711f-4e56-83a4-df4e83a0248e",
   "metadata": {},
   "source": [
    "# Some Excel formatting (optional)"
   ]
  },
  {
   "cell_type": "code",
   "execution_count": 5,
   "id": "3e069c03-0d04-4afa-a943-74598a98d104",
   "metadata": {},
   "outputs": [],
   "source": [
    "################# excel formatting ############################################\n",
    "cell_format_range = 100 # for formatting this many cells vertically and horizontally\n",
    "\n",
    "# define blank formatting - optional\n",
    "\n",
    "def blank_format(sheetname):\n",
    "    fake_df = {'name':['a','b']}\n",
    "    fake_df = pd.DataFrame(data=fake_df)\n",
    "    \n",
    "    fake_df.to_excel(writer, sheet_name=sheetname, startrow=0, startcol=0, index=False)\n",
    "    \n",
    "    workbook = writer.book\n",
    "    worksheet = writer.sheets[sheetname]\n",
    "    \n",
    "    # cell formatting white\n",
    "    cell_format = workbook.add_format()\n",
    "    cell_format.set_pattern(1) # optional when using solid fill\n",
    "    cell_format.set_bg_color('white')\n",
    "    \n",
    "    for i in range(0,cell_format_range,1):\n",
    "        for j in range(0,cell_format_range,1):\n",
    "            worksheet.write(i, j,'',cell_format)"
   ]
  },
  {
   "cell_type": "markdown",
   "id": "0adf73e1-97ba-4331-a0c8-baa2e07e7183",
   "metadata": {},
   "source": [
    "# Finally, write to Excel"
   ]
  },
  {
   "cell_type": "code",
   "execution_count": 6,
   "id": "44b5f02f-af97-465c-a964-839341074b6a",
   "metadata": {},
   "outputs": [],
   "source": [
    "############################ write to excel ###################################\n",
    "\n",
    "with pd.ExcelWriter(output_folder+excel_file_name, engine = \"xlsxwriter\") as writer: # this can also be initialised at the start of the code\n",
    "  # these parts below should be written as/when needed\n",
    "    \n",
    "  blank_format('Data') # optional for blank formatting\n",
    "  df.to_excel(writer, sheet_name='Data',index=False) #index=false drops index rows of df\n",
    "  \n",
    "  # add table formatting around df\n",
    "  # add table\n",
    "  worksheet = writer.sheets['Data']\n",
    "  startrow = 0\n",
    "  endrow = startrow + len(df)\n",
    "  startcol = df.columns.get_loc(\"data\")+0\n",
    "  endcol = (len(df.columns)-1)+0\n",
    "  header = [{'header': di} for di in df.columns.tolist()]\n",
    "  worksheet.add_table(startrow,startcol,endrow,endcol,{'style':'Table style Medium 15','columns':header})\n",
    "  \n",
    "  # add the graph to Excel \n",
    "  # worksheet = writer.sheets['Data'] # optional as worksheet also defined above\n",
    "  worksheet.insert_image('L2',rf\"{output_folder}\\figpath.png\") \n",
    "\n",
    "  # conditional formatting\n",
    "  workbook = writer.book\n",
    "  #worksheet = writher.sheets['Sheet1']\n",
    "  format1 = workbook.add_format({'bg_color': '#837F7E',\n",
    "                                   'font_color': '#000000'})      \n",
    "  # auto adjust column widths\n",
    "  for column in df:\n",
    "    column_length = max(df[column].astype(str).map(len).max(), len(column))\n",
    "    col_idx = df.columns.get_loc(column)\n",
    "    writer.sheets['Data'].set_column(col_idx, col_idx, column_length)      \n",
    "    \n",
    "  #freeze worksheet panes\n",
    "  worksheet.freeze_panes(0, 1)\n",
    "  #writer.save()"
   ]
  },
  {
   "cell_type": "markdown",
   "id": "a5f4060c-77dc-4ccc-9826-3cf21c20d8c6",
   "metadata": {},
   "source": [
    "# Remove any locally stored images"
   ]
  },
  {
   "cell_type": "code",
   "execution_count": 7,
   "id": "7d72045f-0bba-40e0-8d46-0a545db0ea44",
   "metadata": {},
   "outputs": [],
   "source": [
    "##################### remove any locally saved images #########################\n",
    "os.remove(rf\"{output_folder}\\figpath.png\")"
   ]
  },
  {
   "cell_type": "markdown",
   "id": "d484b291-ab98-4277-a632-7a6b0e93c738",
   "metadata": {},
   "source": [
    "# Use an Excel file with existing formatting"
   ]
  },
  {
   "cell_type": "code",
   "execution_count": 8,
   "id": "a4d05b76-8b7c-4287-9c9d-544d78090f74",
   "metadata": {},
   "outputs": [],
   "source": [
    "import shutil\n",
    "\n",
    "# get file location of existing file\n",
    "file_location = r\"C:\\\\Users\\\\kelvi\\\\Desktop\"\n",
    "file_name = \"theme.xlsx\"\n",
    "\n",
    "# copy and save somewhere else with new name\n",
    "shutil.copy(rf\"{file_location}\\{file_name}\", rf\"{file_location}\\tester.xlsx\")\n",
    "\n",
    "# write df to this formatted workbook\n",
    "with pd.ExcelWriter(rf\"{file_location}\\tester.xlsx\", engine=\"openpyxl\",\n",
    "                    mode='a', if_sheet_exists='overlay') as writer:\n",
    "    \n",
    "    df.to_excel(writer, sheet_name=\"Sheet1\", startrow=0,\n",
    "                startcol=0, header=False, index=False)"
   ]
  }
 ],
 "metadata": {
  "kernelspec": {
   "display_name": "Python 3 (ipykernel)",
   "language": "python",
   "name": "python3"
  },
  "language_info": {
   "codemirror_mode": {
    "name": "ipython",
    "version": 3
   },
   "file_extension": ".py",
   "mimetype": "text/x-python",
   "name": "python",
   "nbconvert_exporter": "python",
   "pygments_lexer": "ipython3",
   "version": "3.12.4"
  }
 },
 "nbformat": 4,
 "nbformat_minor": 5
}
